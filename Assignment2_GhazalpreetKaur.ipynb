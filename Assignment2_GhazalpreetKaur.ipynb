{
 "cells": [
  {
   "cell_type": "markdown",
   "metadata": {},
   "source": [
    "# Assignment 2\n",
    "\n",
    "*Ghazalpreet Kaur (gxk170001)\n",
    "\n",
    "\n",
    "\n",
    "### Question 1:\n",
    "\n",
    "Write a Python program to convert temperatures to and from Celsius, Fahrenheit. \n",
    "[ Formula : c/5 = f-32/9 [ where c = temperature in Celsius and f = temperature in Fahrenheit ] \n",
    "Expected Output : \n",
    "60C is 140 in Fahrenheit\n",
    "45F is 7 in Celsius \n"
   ]
  },
  {
   "cell_type": "code",
   "execution_count": null,
   "metadata": {},
   "outputs": [
    {
     "name": "stdout",
     "output_type": "stream",
     "text": [
      "Please enter the unit of temperature you want to convert: f\n",
      "Enter the temperature that you want to change to Celsius: hg\n",
      "Please enter a numerical value!! \n"
     ]
    }
   ],
   "source": [
    "\n",
    "def tempconvert():\n",
    "    while True:\n",
    "        templist = [\"celsius\",\"c\",\"faranheit\",\"f\"]\n",
    "        temp = input(\"Please enter the unit of temperature you want to convert: \")\n",
    "        if temp.lower() not in templist:\n",
    "            print(\"Please make sure that the unit is Celsius,C,Faranheit or F !!\")\n",
    "        else:\n",
    "            if temp.lower() == \"celsius\" or temp.lower() == \"c\":\n",
    "                tempc = input(\"Enter the temperature that you want to change to Faranheit: \")\n",
    "                if tempc.isdigit():\n",
    "                    tempcf = (int(tempc)*1.8)+32\n",
    "                    print(str(tempc) + \"C\" +\" is \"+ str(tempcf)+ \" in Faranheit\" )\n",
    "                    break\n",
    "                else:\n",
    "                    print(\"Please enter a numerical value!! \")\n",
    "            else:\n",
    "                tempf = input(\"Enter the temperature that you want to change to Celsius: \")\n",
    "                if tempf.isdigit():\n",
    "                    tempfc = (int(tempf) - 32)/1.8\n",
    "                    print(str(tempf) + \"F \"+\" is \"+ str(tempfc)+ \" in Celsius\" )\n",
    "                    break\n",
    "                else:\n",
    "                    print(\"Please enter a numerical value!! \")\n",
    "\n",
    "tempconvert()"
   ]
  },
  {
   "cell_type": "markdown",
   "metadata": {},
   "source": [
    "### Question 2\n",
    "\n",
    "Write a function that uses regular expressions to make sure the password string it is passed is strong. A strong password is defined as one that is at least eight characters long, contains both uppercase and lowercase characters, and has at least one digit. You may need to test the string against multiple regex patterns to validate its strength."
   ]
  },
  {
   "cell_type": "code",
   "execution_count": 6,
   "metadata": {},
   "outputs": [
    {
     "ename": "SyntaxError",
     "evalue": "invalid syntax (<ipython-input-6-4abf362760ee>, line 7)",
     "output_type": "error",
     "traceback": [
      "\u001b[0;36m  File \u001b[0;32m\"<ipython-input-6-4abf362760ee>\"\u001b[0;36m, line \u001b[0;32m7\u001b[0m\n\u001b[0;31m    if(patternAlbhabetLower = re.compile(r'[a-z]'))\u001b[0m\n\u001b[0m                            ^\u001b[0m\n\u001b[0;31mSyntaxError\u001b[0m\u001b[0;31m:\u001b[0m invalid syntax\n"
     ]
    }
   ],
   "source": [
    "import re\n",
    "    \n",
    "\n",
    "def pswdstrngth():\n",
    "    password = input(\"Enter the password to check its strength: \")\n",
    "    if len(password)>=8:\n",
    "        if(patternAlbhabetLower = re.compile(r'[a-z]'))\n",
    "        if(patternAlbhabetUpper = re.compile(r'[A-Z]'))\n",
    "        if(patternDigit = re.compile(r'[0-9]'))\n",
    "        if(patternSpecial = re.compile(r'[@#$%^&+=_*/?!\\-]'))\n",
    "        print(\"The password you entered is strong.\")\n",
    "        else: print(\"Its not a strong password. Please make sure that it is at least eight characters long\")\n",
    "        else: print(\"Its not a strong password. Please make sure that it contains both uppercase \\nand lowercase characters and has at least one digit \")\n",
    "        else: print(\"Its not a strong password. Please make sure that it contains both uppercase \\nand lowercase characters and has at least one digit \")\n",
    "        else: print(\"Its not a strong password. Please make sure that it contains both uppercase \\nand lowercase characters and has at least one digit \")\n",
    "        else: print(\"Its not a strong password. Please make sure that it contains both uppercase \\nand lowercase characters and has at least one digit \")\n",
    "            \n",
    "    if re.match(pattern, password):\n",
    "        \n",
    "    else:\n",
    "        print(\"Its not a strong password. Please make sure that it is at least eight characters long, contains both uppercase \\nand lowercase characters and has at least one digit \")\n",
    "\n",
    "pswdstrngth()\n"
   ]
  },
  {
   "cell_type": "code",
   "execution_count": null,
   "metadata": {},
   "outputs": [],
   "source": []
  },
  {
   "cell_type": "code",
   "execution_count": 5,
   "metadata": {},
   "outputs": [],
   "source": [
    "#re.VERBOSE to ignore comments and whitespace\n",
    "phoneRegex1 = re.compile(r'((\\d{3}|\\(\\d{3}\\))?(\\s|-|\\.)?\\d{3}(\\s|-|\\.)\\d{4}(\\s*(ext|x|ext.)\\s*\\d{2,5})?)')\n",
    "#\\d{3}|\\(\\d{3}\\) | is the or sign \n",
    "#translation: 3 digits or 3 digits in brackets, which is optional\n",
    "#after that 3 digits after that space, - or .\n",
    "#after that 4 digits after that space"
   ]
  },
  {
   "cell_type": "code",
   "execution_count": null,
   "metadata": {},
   "outputs": [],
   "source": []
  }
 ],
 "metadata": {
  "kernelspec": {
   "display_name": "Python 3",
   "language": "python",
   "name": "python3"
  },
  "language_info": {
   "codemirror_mode": {
    "name": "ipython",
    "version": 3
   },
   "file_extension": ".py",
   "mimetype": "text/x-python",
   "name": "python",
   "nbconvert_exporter": "python",
   "pygments_lexer": "ipython3",
   "version": "3.6.5"
  }
 },
 "nbformat": 4,
 "nbformat_minor": 2
}
